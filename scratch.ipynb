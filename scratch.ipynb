{
 "cells": [
  {
   "cell_type": "code",
   "execution_count": 3,
   "metadata": {},
   "outputs": [],
   "source": [
    "import pandas as pd\n",
    "from itertools import product"
   ]
  },
  {
   "cell_type": "code",
   "execution_count": 7,
   "metadata": {},
   "outputs": [],
   "source": [
    "vals = list(product(*([[True, False]]*3)))\n",
    "df = pd.DataFrame.from_records(data=vals, columns=['$x_1$', '$x_2$', '$x_3$'])\n",
    "df['$(x_1 \\lor  x_2)$'] = df['$x_1$'] | df['$x_2$']\n",
    "df['$(\\overline{x_1} \\lor x_3)$'] = (~df['$x_1$']) | df['$x_2$']\n",
    "df['$x_1 \\lor \\overline{x_2}\\lor \\overline{x_3})$'] = df['$x_1$'] | (~df['$x_2$'] | df['$x_3$']) "
   ]
  },
  {
   "cell_type": "code",
   "execution_count": 10,
   "metadata": {},
   "outputs": [
    {
     "name": "stdout",
     "output_type": "stream",
     "text": [
      "\\begin{tabular}{lrrrrrr}\n",
      "\\toprule\n",
      " & $x_1$ & $x_2$ & $x_3$ & $(x_1 \\lor  x_2)$ & $(\\overline{x_1} \\lor x_3)$ & $x_1 \\lor \\overline{x_2}\\lor \\overline{x_3})$ \\\\\n",
      "\\midrule\n",
      "0 & True & True & True & True & True & True \\\\\n",
      "1 & True & True & False & True & True & True \\\\\n",
      "2 & True & False & True & True & False & True \\\\\n",
      "3 & True & False & False & True & False & True \\\\\n",
      "4 & False & True & True & True & True & True \\\\\n",
      "5 & False & True & False & True & True & False \\\\\n",
      "6 & False & False & True & False & True & True \\\\\n",
      "7 & False & False & False & False & True & True \\\\\n",
      "\\bottomrule\n",
      "\\end{tabular}\n",
      "\n"
     ]
    }
   ],
   "source": [
    "print(df.to_latex())"
   ]
  },
  {
   "cell_type": "code",
   "execution_count": null,
   "metadata": {},
   "outputs": [],
   "source": []
  }
 ],
 "metadata": {
  "kernelspec": {
   "display_name": "Python 3",
   "language": "python",
   "name": "python3"
  },
  "language_info": {
   "codemirror_mode": {
    "name": "ipython",
    "version": 3
   },
   "file_extension": ".py",
   "mimetype": "text/x-python",
   "name": "python",
   "nbconvert_exporter": "python",
   "pygments_lexer": "ipython3",
   "version": "3.10.6"
  }
 },
 "nbformat": 4,
 "nbformat_minor": 2
}
